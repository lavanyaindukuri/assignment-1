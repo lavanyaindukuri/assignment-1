{
 "cells": [
  {
   "cell_type": "code",
   "execution_count": null,
   "id": "3f9c0d01",
   "metadata": {},
   "outputs": [],
   "source": [
    "1. In the below elements which of them are values or an expression? eg:- values can be integer or string and \n",
    "    expressions will be mathematical operators.\n",
    "    \n",
    "*             -EXPRESSION\n",
    "'hello'       -VALUE(STRING)\n",
    "-87.8         -VALUE(INTEGER)  \n",
    "-             -eXPRESSION\n",
    "/             -EXPRESSION \n",
    "   +          -EXPRESSION\n",
    "6             -VALUE (INTEGER)\n"
   ]
  },
  {
   "cell_type": "code",
   "execution_count": null,
   "id": "5d955e6c",
   "metadata": {},
   "outputs": [],
   "source": [
    "2. What is the difference between string and variable?\n",
    "   STRING is a sequence of one or more variables that can be either a constant or variable,strings are data that is \n",
    "    used to store a variable.\n",
    "   VARIABLE -It is a reserved memory location to store values. "
   ]
  },
  {
   "cell_type": "code",
   "execution_count": null,
   "id": "a01fee36",
   "metadata": {},
   "outputs": [],
   "source": [
    "3. Describe three different data types\n",
    "   integer datatype (eg:20,2000)\n",
    "   floating point number datatype (eg:12.88)\n",
    "   boolean datatype (eg: True, False)"
   ]
  },
  {
   "cell_type": "code",
   "execution_count": null,
   "id": "6e6439ec",
   "metadata": {},
   "outputs": [],
   "source": [
    "4. What is an expression made up of? What do all expressions do?\n",
    "   Expression is a combination of operands and operators.we have different types of expressions like arithmetic,bitwise etc.\n",
    "    the expressions result in atleast one value in return."
   ]
  },
  {
   "cell_type": "code",
   "execution_count": null,
   "id": "913da8fb",
   "metadata": {},
   "outputs": [],
   "source": [
    "5. This assignment statements, like spam = 10. What is the difference between an expression and a statement?\n",
    "    STATEMENT is an instruction that the python interpretor can excute.\n",
    "    expression contains operators ."
   ]
  },
  {
   "cell_type": "code",
   "execution_count": null,
   "id": "690b6ccf",
   "metadata": {},
   "outputs": [],
   "source": [
    "6. After running the following code, what does the variable bacon contain?\n",
    "bacon = 22\n",
    "bacon + 1\n",
    "  '23'"
   ]
  },
  {
   "cell_type": "code",
   "execution_count": null,
   "id": "b23b6097",
   "metadata": {},
   "outputs": [],
   "source": [
    "7. What should the values of the following two terms be?\n",
    "'spam' + 'spamspam'\n",
    "'spam' * 3\n",
    "\n",
    "       'spamspamspam'"
   ]
  },
  {
   "cell_type": "code",
   "execution_count": null,
   "id": "e329f274",
   "metadata": {},
   "outputs": [],
   "source": [
    "8. Why is eggs a valid variable name while 100 is invalid?\n",
    "    variable names cannot begin with number."
   ]
  },
  {
   "cell_type": "code",
   "execution_count": null,
   "id": "02a68fb6",
   "metadata": {},
   "outputs": [],
   "source": [
    "9. What three functions can be used to get the integer, floating-point number, or string version of a value?\n",
    "   int(),float(),str()"
   ]
  },
  {
   "cell_type": "code",
   "execution_count": null,
   "id": "fcbd08c9",
   "metadata": {},
   "outputs": [],
   "source": [
    "10. Why does this expression cause an error? How can you fix it?\n",
    "'I have eaten ' + 99 + ' burritos.'\n",
    "   strings and integer cannot concatenate together."
   ]
  }
 ],
 "metadata": {
  "kernelspec": {
   "display_name": "Python 3 (ipykernel)",
   "language": "python",
   "name": "python3"
  },
  "language_info": {
   "codemirror_mode": {
    "name": "ipython",
    "version": 3
   },
   "file_extension": ".py",
   "mimetype": "text/x-python",
   "name": "python",
   "nbconvert_exporter": "python",
   "pygments_lexer": "ipython3",
   "version": "3.9.13"
  }
 },
 "nbformat": 4,
 "nbformat_minor": 5
}
